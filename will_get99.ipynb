{
  "metadata": {
    "kernelspec": {
      "language": "python",
      "display_name": "Python 3",
      "name": "python3"
    },
    "language_info": {
      "pygments_lexer": "ipython3",
      "nbconvert_exporter": "python",
      "version": "3.6.4",
      "file_extension": ".py",
      "codemirror_mode": {
        "name": "ipython",
        "version": 3
      },
      "name": "python",
      "mimetype": "text/x-python"
    },
    "colab": {
      "name": "will_get99",
      "provenance": []
    }
  },
  "nbformat_minor": 0,
  "nbformat": 4,
  "cells": [
    {
      "source": [
        "\n",
        "# IMPORTANT: RUN THIS CELL IN ORDER TO IMPORT YOUR KAGGLE DATA SOURCES\n",
        "# TO THE CORRECT LOCATION (/kaggle/input) IN YOUR NOTEBOOK,\n",
        "# THEN FEEL FREE TO DELETE THIS CELL.\n",
        "# NOTE: THIS NOTEBOOK ENVIRONMENT DIFFERS FROM KAGGLE'S PYTHON\n",
        "# ENVIRONMENT SO THERE MAY BE MISSING LIBRARIES USED BY YOUR\n",
        "# NOTEBOOK.\n",
        "\n",
        "import os\n",
        "import sys\n",
        "from tempfile import NamedTemporaryFile\n",
        "from urllib.request import urlopen\n",
        "from urllib.parse import unquote, urlparse\n",
        "from urllib.error import HTTPError\n",
        "from zipfile import ZipFile\n",
        "import tarfile\n",
        "import shutil\n",
        "\n",
        "CHUNK_SIZE = 40960\n",
        "DATA_SOURCE_MAPPING = 'sml-project:https%3A%2F%2Fstorage.googleapis.com%2Fkaggle-competitions-data%2Fkaggle-v2%2F50088%2F5285395%2Fbundle%2Farchive.zip%3FX-Goog-Algorithm%3DGOOG4-RSA-SHA256%26X-Goog-Credential%3Dgcp-kaggle-com%2540kaggle-161607.iam.gserviceaccount.com%252F20240707%252Fauto%252Fstorage%252Fgoog4_request%26X-Goog-Date%3D20240707T081749Z%26X-Goog-Expires%3D259200%26X-Goog-SignedHeaders%3Dhost%26X-Goog-Signature%3D049d5d662f1f34c12f2e7e6c275bd4fcd27f89d2699fb3cfccf94310af06c0491d31bfd1583c08a6999311fe45878e2d6b81fa0c75e9f2af51a2da0492beed7cbc678ef74c46f0f21b94ba9d43ded56db9d9eee210f857d44f6259ada566920c98b55223a4f7406141945779082ebf8a34a626f838c4d3a6765bc15cbf3d6002b660b90cea9fcaba9c06c3fd9e5529ea434060ee053a4189c59e956504b9f91c7961cb636e32989c007abae6539f27003d279929831ef711f9aa29275afdb325ad55de6641facb640bd463c94834cb64adc320ccda902e755b5698fb4aa4294fa095237fa9ce5356dde3030ccbd9ca8bc1828eeaeb1cbfecf7aed98c4d561b0e'\n",
        "\n",
        "KAGGLE_INPUT_PATH='/kaggle/input'\n",
        "KAGGLE_WORKING_PATH='/kaggle/working'\n",
        "KAGGLE_SYMLINK='kaggle'\n",
        "\n",
        "!umount /kaggle/input/ 2> /dev/null\n",
        "shutil.rmtree('/kaggle/input', ignore_errors=True)\n",
        "os.makedirs(KAGGLE_INPUT_PATH, 0o777, exist_ok=True)\n",
        "os.makedirs(KAGGLE_WORKING_PATH, 0o777, exist_ok=True)\n",
        "\n",
        "try:\n",
        "  os.symlink(KAGGLE_INPUT_PATH, os.path.join(\"..\", 'input'), target_is_directory=True)\n",
        "except FileExistsError:\n",
        "  pass\n",
        "try:\n",
        "  os.symlink(KAGGLE_WORKING_PATH, os.path.join(\"..\", 'working'), target_is_directory=True)\n",
        "except FileExistsError:\n",
        "  pass\n",
        "\n",
        "for data_source_mapping in DATA_SOURCE_MAPPING.split(','):\n",
        "    directory, download_url_encoded = data_source_mapping.split(':')\n",
        "    download_url = unquote(download_url_encoded)\n",
        "    filename = urlparse(download_url).path\n",
        "    destination_path = os.path.join(KAGGLE_INPUT_PATH, directory)\n",
        "    try:\n",
        "        with urlopen(download_url) as fileres, NamedTemporaryFile() as tfile:\n",
        "            total_length = fileres.headers['content-length']\n",
        "            print(f'Downloading {directory}, {total_length} bytes compressed')\n",
        "            dl = 0\n",
        "            data = fileres.read(CHUNK_SIZE)\n",
        "            while len(data) > 0:\n",
        "                dl += len(data)\n",
        "                tfile.write(data)\n",
        "                done = int(50 * dl / int(total_length))\n",
        "                sys.stdout.write(f\"\\r[{'=' * done}{' ' * (50-done)}] {dl} bytes downloaded\")\n",
        "                sys.stdout.flush()\n",
        "                data = fileres.read(CHUNK_SIZE)\n",
        "            if filename.endswith('.zip'):\n",
        "              with ZipFile(tfile) as zfile:\n",
        "                zfile.extractall(destination_path)\n",
        "            else:\n",
        "              with tarfile.open(tfile.name) as tarfile:\n",
        "                tarfile.extractall(destination_path)\n",
        "            print(f'\\nDownloaded and uncompressed: {directory}')\n",
        "    except HTTPError as e:\n",
        "        print(f'Failed to load (likely expired) {download_url} to path {destination_path}')\n",
        "        continue\n",
        "    except OSError as e:\n",
        "        print(f'Failed to load {download_url} to path {destination_path}')\n",
        "        continue\n",
        "\n",
        "print('Data source import complete.')\n"
      ],
      "metadata": {
        "id": "_076MPL4RVdU"
      },
      "cell_type": "code",
      "outputs": [],
      "execution_count": null
    },
    {
      "cell_type": "code",
      "source": [
        "# This Python 3 environment comes with many helpful analytics libraries installed\n",
        "# It is defined by the kaggle/python Docker image: https://github.com/kaggle/docker-python\n",
        "# For example, here's several helpful packages to load\n",
        "\n",
        "import numpy as np # linear algebra\n",
        "import pandas as pd # data processing, CSV file I/O (e.g. pd.read_csv)\n",
        "\n",
        "# Input data files are available in the read-only \"../input/\" directory\n",
        "# For example, running this (by clicking run or pressing Shift+Enter) will list all files under the input directory\n",
        "\n",
        "import os\n",
        "for dirname, _, filenames in os.walk('/kaggle/input'):\n",
        "    for filename in filenames:\n",
        "        print(os.path.join(dirname, filename))\n",
        "\n",
        "# You can write up to 20GB to the current directory (/kaggle/working/) that gets preserved as output when you create a version using \"Save & Run All\"\n",
        "# You can also write temporary files to /kaggle/temp/, but they won't be saved outside of the current session"
      ],
      "metadata": {
        "_uuid": "8f2839f25d086af736a60e9eeb907d3b93b6e0e5",
        "_cell_guid": "b1076dfc-b9ad-4769-8c92-a6c4dae69d19",
        "trusted": true,
        "id": "0_DbAHeaRVdW"
      },
      "execution_count": null,
      "outputs": []
    },
    {
      "cell_type": "code",
      "source": [
        "training_data = pd.read_csv(\"/kaggle/input/sml-project/train.csv\")\n",
        "new_x = training_data\n",
        "training_data.dropna\n",
        "training_data.drop_duplicates\n",
        "training_data = training_data.drop('category', axis=1)\n",
        "training_data=training_data.drop('ID',axis=1)\n",
        "\n",
        "same_values_mask = (training_data == training_data.iloc[0]).all(axis=0)\n",
        "training_data = training_data.loc[:, ~same_values_mask]\n",
        "\n",
        "# zero_mask = (training_data == 0.0).all(axis=0)\n",
        "# training_data = training_data.loc[:, ~zero_mask]\n",
        "\n",
        "nonzero_mask = (training_data != 0).sum(axis=0) < 25\n",
        "training_data = training_data.loc[:, ~nonzero_mask]\n",
        "training_data.head()"
      ],
      "metadata": {
        "trusted": true,
        "id": "Znfz5SvnRVdW"
      },
      "execution_count": null,
      "outputs": []
    },
    {
      "cell_type": "code",
      "source": [
        "testing_data = pd.read_csv(\"/kaggle/input/sml-project/test.csv\")\n",
        "new_y = testing_data\n",
        "testing_data.dropna\n",
        "testing_data.drop_duplicates\n",
        "testing_data=testing_data.drop('ID',axis=1)\n",
        "\n",
        "testing_data = testing_data.loc[:, ~same_values_mask]\n",
        "testing_data = testing_data.loc[:, ~nonzero_mask]\n",
        "\n",
        "testing_data.head()"
      ],
      "metadata": {
        "trusted": true,
        "id": "TZ9lMHfWRVdW"
      },
      "execution_count": null,
      "outputs": []
    },
    {
      "cell_type": "code",
      "source": [
        "from sklearn.linear_model import LogisticRegression\n",
        "from sklearn.decomposition import PCA\n",
        "from sklearn.preprocessing import StandardScaler\n",
        "from sklearn.discriminant_analysis import LinearDiscriminantAnalysis\n",
        "from sklearn.neighbors import LocalOutlierFactor\n",
        "from sklearn.ensemble import IsolationForest\n",
        "from sklearn.feature_selection import RFE\n",
        "\n",
        "import warnings\n",
        "warnings.filterwarnings('ignore')\n",
        "\n",
        "Y_output = new_x[\"category\"]\n",
        "X_modelfitting = training_data\n",
        "X_testing = testing_data"
      ],
      "metadata": {
        "trusted": true,
        "id": "fOgcuyfoRVdX"
      },
      "execution_count": null,
      "outputs": []
    },
    {
      "cell_type": "code",
      "source": [
        "isolationtree = IsolationForest()\n",
        "outliers = isolationtree.fit_predict(X_modelfitting)\n",
        "number_outliers = len(outliers[outliers == -1])\n",
        "print(\"Number of outliers:\", number_outliers)\n",
        "mask = outliers != -1\n",
        "X_modelfitting = X_modelfitting[mask]\n",
        "Y_output = Y_output[mask]"
      ],
      "metadata": {
        "trusted": true,
        "id": "rQzaqF9PRVdX"
      },
      "execution_count": null,
      "outputs": []
    },
    {
      "cell_type": "code",
      "source": [
        "pca_to_best_components = PCA(n_components=1000)\n",
        "X_modelfitting = pca_to_best_components.fit_transform(X_modelfitting)\n",
        "X_testing = pca_to_best_components.transform(X_testing)"
      ],
      "metadata": {
        "trusted": true,
        "id": "C4GEsR9JRVdX"
      },
      "execution_count": null,
      "outputs": []
    },
    {
      "cell_type": "code",
      "source": [
        "# estimator_using_rfe = LogisticRegression(max_iter=10000)\n",
        "# selector_using_rfe = RFE(estimator_using_rfe, n_features_to_select=470, step=1)\n",
        "# selector_using_rfe.fit(X_modelfitting, Y_output)\n",
        "# X_modelfitting = X_modelfitting[:,selector_using_rfe.support_]\n",
        "# X_testing = X_testing[:,selector_using_rfe.support_]\n",
        "from sklearn.neural_network import MLPClassifier\n",
        "from sklearn.ensemble import BaggingClassifier\n",
        "from sklearn.preprocessing import StandardScaler\n",
        "from sklearn.cluster import KMeans\n",
        "\n",
        "import warnings\n",
        "warnings.filterwarnings('ignore')\n",
        "\n",
        "# pca_to_best_components = PCA(n_components=400)\n",
        "# X_modelfitting = pca_to_best_components.fit_transform(X_modelfitting)\n",
        "# X_testing = pca_to_best_components.transform(X_testing)"
      ],
      "metadata": {
        "trusted": true,
        "id": "YJD16C1HRVdX"
      },
      "execution_count": null,
      "outputs": []
    },
    {
      "cell_type": "code",
      "source": [
        "for i in range(3):\n",
        "    X_modelfitting_df = pd.DataFrame(data=X_modelfitting)\n",
        "    # Apply KMeans Clustering for grouping similar samples together on X_modelfitting\n",
        "    cluster_model = KMeans(n_clusters=20)\n",
        "    cluster_assignments_train = cluster_model.fit_predict(X_modelfitting)\n",
        "\n",
        "    # Add the cluster assignments as a new column in X_modelfitting\n",
        "    X_modelfitting_df = pd.DataFrame(data=X_modelfitting)\n",
        "    X_modelfitting_df[f'cluster{i}'] = cluster_assignments_train\n",
        "\n",
        "    # Create a new feature based on the cluster assignments\n",
        "    cluster_counts = X_modelfitting_df[f'cluster{i}'].value_counts(normalize=True)\n",
        "    X_modelfitting_df[f'cluster_ratio{i}'] = X_modelfitting_df[f'cluster{i}'].map(cluster_counts)\n",
        "\n",
        "    # Transform X_testing using the cluster model fit on X_modelfitting\n",
        "    X_testing_df = pd.DataFrame(data=X_testing)\n",
        "    cluster_assignments_test = cluster_model.predict(X_testing_df)\n",
        "    X_testing_df[f'cluster{i}'] = cluster_assignments_test\n",
        "    X_testing_df[f'cluster_ratio{i}'] = X_testing_df[f'cluster{i}'].map(cluster_counts)\n",
        "\n",
        "    # Select only the cluster id and cluster ratio columns from train and test sets\n",
        "    X_modelfitting_cluster = X_modelfitting_df[[f'cluster{i}', f'cluster_ratio{i}']].to_numpy()\n",
        "    X_testing_cluster =X_testing_df[[f'cluster{i}', f'cluster_ratio{i}']].to_numpy()"
      ],
      "metadata": {
        "trusted": true,
        "id": "Isnz7OLiRVdX"
      },
      "execution_count": null,
      "outputs": []
    },
    {
      "cell_type": "code",
      "source": [
        "pca_to_best_components = PCA(n_components=400)\n",
        "X_modelfitting = pca_to_best_components.fit_transform(X_modelfitting)\n",
        "X_testing = pca_to_best_components.transform(X_testing)\n",
        "\n",
        "linear_analysis = LinearDiscriminantAnalysis(n_components = 19)\n",
        "X_train_lda = linear_analysis.fit_transform(X_modelfitting, Y_output)\n",
        "X_test_lda = linear_analysis.transform(X_testing)"
      ],
      "metadata": {
        "trusted": true,
        "id": "d-v3dlcYRVdY"
      },
      "execution_count": null,
      "outputs": []
    },
    {
      "cell_type": "code",
      "source": [
        "# Concatenate X_train_cluster and X_train_final\n",
        "X_train_final = np.concatenate((X_modelfitting_cluster, X_train_lda), axis=1)\n",
        "\n",
        "# Concatenate X_test_cluster and X_test_final\n",
        "X_test_final = np.concatenate((X_testing_cluster, X_test_lda), axis=1)\n",
        "scaler = StandardScaler()\n",
        "# X_train_scaled = scaler.fit_transform(X_train_final)\n",
        "# X_test_scaled = scaler.transform(X_test_final)"
      ],
      "metadata": {
        "trusted": true,
        "id": "RvbVZvmqRVdY"
      },
      "execution_count": null,
      "outputs": []
    },
    {
      "cell_type": "code",
      "source": [
        "# logistic = LogisticRegression(max_iter=10000,C=0.1)\n",
        "# logistic.fit(X_train_final, Y_output)\n",
        "# Y_predicted = logistic.predict(X_test_final)\n",
        "# print(Y_predicted)\n",
        "\n",
        "# Train a neural network\n",
        "neural_net = MLPClassifier(hidden_layer_sizes=(300,), max_iter=800)\n",
        "bagging = BaggingClassifier(neural_net, n_estimators=300)\n",
        "\n",
        "# Fit the bagging classifier to the training data\n",
        "bagging.fit(X_train_final, Y_output)\n",
        "\n",
        "# Predict on the test data\n",
        "Y_predicted = bagging.predict(X_test_final)\n",
        "print(Y_predicted)"
      ],
      "metadata": {
        "trusted": true,
        "id": "GTgL7jhwRVdY"
      },
      "execution_count": null,
      "outputs": []
    },
    {
      "cell_type": "code",
      "source": [
        "output = pd.DataFrame({'ID': new_y.ID, 'category': Y_predicted})\n",
        "output.to_csv('submission.csv', index=False)"
      ],
      "metadata": {
        "trusted": true,
        "id": "tevS7N38RVdY"
      },
      "execution_count": null,
      "outputs": []
    }
  ]
}