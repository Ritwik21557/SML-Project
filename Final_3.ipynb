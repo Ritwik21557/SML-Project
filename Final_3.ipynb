{
  "metadata": {
    "kernelspec": {
      "language": "python",
      "display_name": "Python 3",
      "name": "python3"
    },
    "language_info": {
      "pygments_lexer": "ipython3",
      "nbconvert_exporter": "python",
      "version": "3.6.4",
      "file_extension": ".py",
      "codemirror_mode": {
        "name": "ipython",
        "version": 3
      },
      "name": "python",
      "mimetype": "text/x-python"
    },
    "colab": {
      "name": "Final_3",
      "provenance": []
    }
  },
  "nbformat_minor": 0,
  "nbformat": 4,
  "cells": [
    {
      "source": [
        "\n",
        "# IMPORTANT: RUN THIS CELL IN ORDER TO IMPORT YOUR KAGGLE DATA SOURCES\n",
        "# TO THE CORRECT LOCATION (/kaggle/input) IN YOUR NOTEBOOK,\n",
        "# THEN FEEL FREE TO DELETE THIS CELL.\n",
        "# NOTE: THIS NOTEBOOK ENVIRONMENT DIFFERS FROM KAGGLE'S PYTHON\n",
        "# ENVIRONMENT SO THERE MAY BE MISSING LIBRARIES USED BY YOUR\n",
        "# NOTEBOOK.\n",
        "\n",
        "import os\n",
        "import sys\n",
        "from tempfile import NamedTemporaryFile\n",
        "from urllib.request import urlopen\n",
        "from urllib.parse import unquote, urlparse\n",
        "from urllib.error import HTTPError\n",
        "from zipfile import ZipFile\n",
        "import tarfile\n",
        "import shutil\n",
        "\n",
        "CHUNK_SIZE = 40960\n",
        "DATA_SOURCE_MAPPING = 'sml-project:https%3A%2F%2Fstorage.googleapis.com%2Fkaggle-competitions-data%2Fkaggle-v2%2F50088%2F5285395%2Fbundle%2Farchive.zip%3FX-Goog-Algorithm%3DGOOG4-RSA-SHA256%26X-Goog-Credential%3Dgcp-kaggle-com%2540kaggle-161607.iam.gserviceaccount.com%252F20240707%252Fauto%252Fstorage%252Fgoog4_request%26X-Goog-Date%3D20240707T081636Z%26X-Goog-Expires%3D259200%26X-Goog-SignedHeaders%3Dhost%26X-Goog-Signature%3D51649cc99fd3206fbe5c1ae9da2377b6f8cb7fba81ddbed4039b58c1d968f1691aa8b60cbfbf1d907b2e70656eb8e7a4a3bf4f85a1c403f947254a88814720ce3daad40b7223354b6b972dc756990f9222d81f0319a151159d42694d8bd50508233bc54e62026dd705a395b8053276f06f5d084d40305dba76fe60dd31508f2e6ca121416b013c03687b184b9c8236962ce2f6a0f140180406c7db1dbc40412bc8d448427f07a4556147be59209069711b86aa63791abd7637a1e6d36c30f860a4a2aeacb5881131636d7e52f01f0a819d419dfe6ac93a9288560db591591e86b435275c540cd38ad0fcc4bdf15a76058cbcd8e13626577d3b0d0a6fd3c88531'\n",
        "\n",
        "KAGGLE_INPUT_PATH='/kaggle/input'\n",
        "KAGGLE_WORKING_PATH='/kaggle/working'\n",
        "KAGGLE_SYMLINK='kaggle'\n",
        "\n",
        "!umount /kaggle/input/ 2> /dev/null\n",
        "shutil.rmtree('/kaggle/input', ignore_errors=True)\n",
        "os.makedirs(KAGGLE_INPUT_PATH, 0o777, exist_ok=True)\n",
        "os.makedirs(KAGGLE_WORKING_PATH, 0o777, exist_ok=True)\n",
        "\n",
        "try:\n",
        "  os.symlink(KAGGLE_INPUT_PATH, os.path.join(\"..\", 'input'), target_is_directory=True)\n",
        "except FileExistsError:\n",
        "  pass\n",
        "try:\n",
        "  os.symlink(KAGGLE_WORKING_PATH, os.path.join(\"..\", 'working'), target_is_directory=True)\n",
        "except FileExistsError:\n",
        "  pass\n",
        "\n",
        "for data_source_mapping in DATA_SOURCE_MAPPING.split(','):\n",
        "    directory, download_url_encoded = data_source_mapping.split(':')\n",
        "    download_url = unquote(download_url_encoded)\n",
        "    filename = urlparse(download_url).path\n",
        "    destination_path = os.path.join(KAGGLE_INPUT_PATH, directory)\n",
        "    try:\n",
        "        with urlopen(download_url) as fileres, NamedTemporaryFile() as tfile:\n",
        "            total_length = fileres.headers['content-length']\n",
        "            print(f'Downloading {directory}, {total_length} bytes compressed')\n",
        "            dl = 0\n",
        "            data = fileres.read(CHUNK_SIZE)\n",
        "            while len(data) > 0:\n",
        "                dl += len(data)\n",
        "                tfile.write(data)\n",
        "                done = int(50 * dl / int(total_length))\n",
        "                sys.stdout.write(f\"\\r[{'=' * done}{' ' * (50-done)}] {dl} bytes downloaded\")\n",
        "                sys.stdout.flush()\n",
        "                data = fileres.read(CHUNK_SIZE)\n",
        "            if filename.endswith('.zip'):\n",
        "              with ZipFile(tfile) as zfile:\n",
        "                zfile.extractall(destination_path)\n",
        "            else:\n",
        "              with tarfile.open(tfile.name) as tarfile:\n",
        "                tarfile.extractall(destination_path)\n",
        "            print(f'\\nDownloaded and uncompressed: {directory}')\n",
        "    except HTTPError as e:\n",
        "        print(f'Failed to load (likely expired) {download_url} to path {destination_path}')\n",
        "        continue\n",
        "    except OSError as e:\n",
        "        print(f'Failed to load {download_url} to path {destination_path}')\n",
        "        continue\n",
        "\n",
        "print('Data source import complete.')\n"
      ],
      "metadata": {
        "id": "Ba3kljI5RDuR"
      },
      "cell_type": "code",
      "outputs": [],
      "execution_count": null
    },
    {
      "cell_type": "code",
      "source": [
        "# This Python 3 environment comes with many helpful analytics libraries installed\n",
        "# It is defined by the kaggle/python Docker image: https://github.com/kaggle/docker-python\n",
        "# For example, here's several helpful packages to load\n",
        "\n",
        "import numpy as np # linear algebra\n",
        "import pandas as pd # data processing, CSV file I/O (e.g. pd.read_csv)\n",
        "\n",
        "# Input data files are available in the read-only \"../input/\" directory\n",
        "# For example, running this (by clicking run or pressing Shift+Enter) will list all files under the input directory\n",
        "\n",
        "import os\n",
        "for dirname, _, filenames in os.walk('/kaggle/input'):\n",
        "    for filename in filenames:\n",
        "        print(os.path.join(dirname, filename))\n",
        "\n",
        "# You can write up to 20GB to the current directory (/kaggle/working/) that gets preserved as output when you create a version using \"Save & Run All\"\n",
        "# You can also write temporary files to /kaggle/temp/, but they won't be saved outside of the current session"
      ],
      "metadata": {
        "_uuid": "8f2839f25d086af736a60e9eeb907d3b93b6e0e5",
        "_cell_guid": "b1076dfc-b9ad-4769-8c92-a6c4dae69d19",
        "execution": {
          "iopub.status.busy": "2023-04-16T11:59:07.631081Z",
          "iopub.execute_input": "2023-04-16T11:59:07.631522Z",
          "iopub.status.idle": "2023-04-16T11:59:07.648271Z",
          "shell.execute_reply.started": "2023-04-16T11:59:07.631471Z",
          "shell.execute_reply": "2023-04-16T11:59:07.646736Z"
        },
        "trusted": true,
        "id": "FUlbXaD4RDuW"
      },
      "execution_count": null,
      "outputs": []
    },
    {
      "cell_type": "code",
      "source": [
        "training_data = pd.read_csv(\"/kaggle/input/sml-project/train.csv\")\n",
        "new_x = training_data\n",
        "training_data.dropna\n",
        "training_data.drop_duplicates\n",
        "training_data = training_data.drop('category', axis=1)\n",
        "training_data=training_data.drop('ID',axis=1)\n",
        "\n",
        "same_values_mask = (training_data == training_data.iloc[0]).all(axis=0)\n",
        "training_data = training_data.loc[:, ~same_values_mask]\n",
        "\n",
        "# zero_mask = (training_data == 0.0).all(axis=0)\n",
        "# training_data = training_data.loc[:, ~zero_mask]\n",
        "\n",
        "nonzero_mask = (training_data != 0).sum(axis=0) < 25\n",
        "training_data = training_data.loc[:, ~nonzero_mask]\n",
        "training_data.head()"
      ],
      "metadata": {
        "execution": {
          "iopub.status.busy": "2023-04-16T11:59:07.649912Z",
          "iopub.execute_input": "2023-04-16T11:59:07.650546Z",
          "iopub.status.idle": "2023-04-16T11:59:09.723821Z",
          "shell.execute_reply.started": "2023-04-16T11:59:07.650508Z",
          "shell.execute_reply": "2023-04-16T11:59:09.722681Z"
        },
        "trusted": true,
        "id": "Z1YaWc_oRDuY"
      },
      "execution_count": null,
      "outputs": []
    },
    {
      "cell_type": "code",
      "source": [
        "testing_data = pd.read_csv(\"/kaggle/input/sml-project/test.csv\")\n",
        "new_y = testing_data\n",
        "testing_data.dropna\n",
        "testing_data.drop_duplicates\n",
        "testing_data=testing_data.drop('ID',axis=1)\n",
        "\n",
        "testing_data = testing_data.loc[:, ~same_values_mask]\n",
        "testing_data = testing_data.loc[:, ~nonzero_mask]\n",
        "\n",
        "testing_data.head()"
      ],
      "metadata": {
        "execution": {
          "iopub.status.busy": "2023-04-16T11:59:09.725125Z",
          "iopub.execute_input": "2023-04-16T11:59:09.725451Z",
          "iopub.status.idle": "2023-04-16T11:59:10.341603Z",
          "shell.execute_reply.started": "2023-04-16T11:59:09.725418Z",
          "shell.execute_reply": "2023-04-16T11:59:10.340253Z"
        },
        "trusted": true,
        "id": "ktI7VBSIRDua"
      },
      "execution_count": null,
      "outputs": []
    },
    {
      "cell_type": "code",
      "source": [
        "from sklearn.linear_model import LogisticRegression\n",
        "from sklearn.decomposition import PCA\n",
        "from sklearn.preprocessing import StandardScaler\n",
        "from sklearn.discriminant_analysis import LinearDiscriminantAnalysis\n",
        "from sklearn.neighbors import LocalOutlierFactor\n",
        "from sklearn.ensemble import IsolationForest\n",
        "from sklearn.feature_selection import RFE\n",
        "from sklearn.cluster import KMeans\n",
        "\n",
        "import warnings\n",
        "warnings.filterwarnings('ignore')\n",
        "\n",
        "Y_output = new_x[\"category\"]\n",
        "X_modelfitting = training_data\n",
        "X_testing = testing_data"
      ],
      "metadata": {
        "execution": {
          "iopub.status.busy": "2023-04-16T11:59:10.34724Z",
          "iopub.execute_input": "2023-04-16T11:59:10.347655Z",
          "iopub.status.idle": "2023-04-16T11:59:10.77091Z",
          "shell.execute_reply.started": "2023-04-16T11:59:10.347614Z",
          "shell.execute_reply": "2023-04-16T11:59:10.769455Z"
        },
        "trusted": true,
        "id": "jPDz5gxKRDub"
      },
      "execution_count": null,
      "outputs": []
    },
    {
      "cell_type": "code",
      "source": [
        "isolationtree = IsolationForest()\n",
        "outliers = isolationtree.fit_predict(X_modelfitting)\n",
        "number_outliers = len(outliers[outliers == -1])\n",
        "print(\"Number of outliers:\", number_outliers)\n",
        "mask = outliers != -1\n",
        "X_modelfitting = X_modelfitting[mask]\n",
        "Y_output = Y_output[mask]"
      ],
      "metadata": {
        "execution": {
          "iopub.status.busy": "2023-04-16T11:59:10.772719Z",
          "iopub.execute_input": "2023-04-16T11:59:10.773169Z",
          "iopub.status.idle": "2023-04-16T11:59:15.207288Z",
          "shell.execute_reply.started": "2023-04-16T11:59:10.773122Z",
          "shell.execute_reply": "2023-04-16T11:59:15.205918Z"
        },
        "trusted": true,
        "id": "EF_Pwt6fRDud"
      },
      "execution_count": null,
      "outputs": []
    },
    {
      "cell_type": "code",
      "source": [
        "pca_to_best_components = PCA(n_components=1000)\n",
        "X_modelfitting = pca_to_best_components.fit_transform(X_modelfitting)\n",
        "X_testing = pca_to_best_components.transform(X_testing)"
      ],
      "metadata": {
        "execution": {
          "iopub.status.busy": "2023-04-16T11:59:15.208988Z",
          "iopub.execute_input": "2023-04-16T11:59:15.210182Z",
          "iopub.status.idle": "2023-04-16T11:59:17.173463Z",
          "shell.execute_reply.started": "2023-04-16T11:59:15.210135Z",
          "shell.execute_reply": "2023-04-16T11:59:17.1719Z"
        },
        "trusted": true,
        "id": "GIe3NNqeRDue"
      },
      "execution_count": null,
      "outputs": []
    },
    {
      "cell_type": "code",
      "source": [
        "pca_to_best_components = PCA(n_components=400)\n",
        "X_modelfitting = pca_to_best_components.fit_transform(X_modelfitting)\n",
        "X_testing = pca_to_best_components.transform(X_testing)"
      ],
      "metadata": {
        "execution": {
          "iopub.status.busy": "2023-04-16T11:59:17.176041Z",
          "iopub.execute_input": "2023-04-16T11:59:17.177218Z",
          "iopub.status.idle": "2023-04-16T11:59:17.687955Z",
          "shell.execute_reply.started": "2023-04-16T11:59:17.177142Z",
          "shell.execute_reply": "2023-04-16T11:59:17.685977Z"
        },
        "trusted": true,
        "id": "K83msFSfRDug"
      },
      "execution_count": null,
      "outputs": []
    },
    {
      "cell_type": "code",
      "source": [
        "estimator_using_rfe = LogisticRegression(max_iter=10000)\n",
        "selector_using_rfe = RFE(estimator_using_rfe, n_features_to_select=379, step=1)\n",
        "selector_using_rfe.fit(X_modelfitting, Y_output)\n",
        "X_modelfitting = X_modelfitting[:,selector_using_rfe.support_]\n",
        "X_testing = X_testing[:,selector_using_rfe.support_]"
      ],
      "metadata": {
        "execution": {
          "iopub.status.busy": "2023-04-16T11:59:17.690628Z",
          "iopub.execute_input": "2023-04-16T11:59:17.691718Z",
          "iopub.status.idle": "2023-04-16T11:59:53.633113Z",
          "shell.execute_reply.started": "2023-04-16T11:59:17.691649Z",
          "shell.execute_reply": "2023-04-16T11:59:53.631536Z"
        },
        "trusted": true,
        "id": "vbL626XWRDuh"
      },
      "execution_count": null,
      "outputs": []
    },
    {
      "cell_type": "code",
      "source": [
        "for i in range(1):\n",
        "    X_modelfitting_df = pd.DataFrame(data=X_modelfitting)\n",
        "    # Apply KMeans Clustering for grouping similar samples together on X_modelfitting\n",
        "    cluster_model = KMeans(n_clusters=4)\n",
        "    cluster_assignments_train = cluster_model.fit_predict(X_modelfitting)\n",
        "\n",
        "    # Add the cluster assignments as a new column in X_modelfitting\n",
        "    X_modelfitting_df = pd.DataFrame(data=X_modelfitting)\n",
        "    X_modelfitting_df[f'cluster{i}'] = cluster_assignments_train\n",
        "\n",
        "    # Create a new feature based on the cluster assignments\n",
        "    cluster_counts = X_modelfitting_df[f'cluster{i}'].value_counts(normalize=True)\n",
        "    X_modelfitting_df[f'cluster_ratio{i}'] = X_modelfitting_df[f'cluster{i}'].map(cluster_counts)\n",
        "\n",
        "    # Transform X_testing using the cluster model fit on X_modelfitting\n",
        "    X_testing_df = pd.DataFrame(data=X_testing)\n",
        "    cluster_assignments_test = cluster_model.predict(X_testing_df)\n",
        "    X_testing_df[f'cluster{i}'] = cluster_assignments_test\n",
        "    X_testing_df[f'cluster_ratio{i}'] = X_testing_df[f'cluster{i}'].map(cluster_counts)\n",
        "\n",
        "    # Select only the cluster id and cluster ratio columns from train and test sets\n",
        "    X_modelfitting_cluster = X_modelfitting_df[[f'cluster{i}', f'cluster_ratio{i}']].to_numpy()\n",
        "    X_testing_cluster =X_testing_df[[f'cluster{i}', f'cluster_ratio{i}']].to_numpy()"
      ],
      "metadata": {
        "execution": {
          "iopub.status.busy": "2023-04-16T11:59:53.635396Z",
          "iopub.execute_input": "2023-04-16T11:59:53.636403Z",
          "iopub.status.idle": "2023-04-16T11:59:55.26489Z",
          "shell.execute_reply.started": "2023-04-16T11:59:53.636342Z",
          "shell.execute_reply": "2023-04-16T11:59:55.262771Z"
        },
        "trusted": true,
        "id": "-YNJ_QT5RDuj"
      },
      "execution_count": null,
      "outputs": []
    },
    {
      "cell_type": "code",
      "source": [],
      "metadata": {
        "id": "J7AfsF-RRDuk"
      },
      "execution_count": null,
      "outputs": []
    },
    {
      "cell_type": "code",
      "source": [],
      "metadata": {
        "trusted": true,
        "id": "XrcNLC9QRDul"
      },
      "execution_count": null,
      "outputs": []
    },
    {
      "cell_type": "code",
      "source": [
        "linear_analysis = LinearDiscriminantAnalysis(n_components = 19)\n",
        "X_train_lda = linear_analysis.fit_transform(X_modelfitting, Y_output)\n",
        "X_test_lda = linear_analysis.transform(X_testing)"
      ],
      "metadata": {
        "execution": {
          "iopub.status.busy": "2023-04-16T11:59:55.267291Z",
          "iopub.execute_input": "2023-04-16T11:59:55.267814Z",
          "iopub.status.idle": "2023-04-16T11:59:55.458177Z",
          "shell.execute_reply.started": "2023-04-16T11:59:55.267754Z",
          "shell.execute_reply": "2023-04-16T11:59:55.456669Z"
        },
        "trusted": true,
        "id": "Os8A0C68RDul"
      },
      "execution_count": null,
      "outputs": []
    },
    {
      "cell_type": "code",
      "source": [
        "# Concatenate X_train_cluster and X_train_final\n",
        "X_train_final = np.concatenate((X_modelfitting_cluster, X_train_lda), axis=1)\n",
        "\n",
        "# Concatenate X_test_cluster and X_test_final\n",
        "X_test_final = np.concatenate((X_testing_cluster, X_test_lda), axis=1)"
      ],
      "metadata": {
        "execution": {
          "iopub.status.busy": "2023-04-16T11:59:55.460412Z",
          "iopub.execute_input": "2023-04-16T11:59:55.46093Z",
          "iopub.status.idle": "2023-04-16T11:59:55.475025Z",
          "shell.execute_reply.started": "2023-04-16T11:59:55.46086Z",
          "shell.execute_reply": "2023-04-16T11:59:55.473234Z"
        },
        "trusted": true,
        "id": "X3iNtXqdRDum"
      },
      "execution_count": null,
      "outputs": []
    },
    {
      "cell_type": "code",
      "source": [
        "from sklearn.ensemble import BaggingClassifier\n",
        "from sklearn.linear_model import LogisticRegression\n",
        "\n",
        "logistic = LogisticRegression(max_iter=10000, C=0.02)\n",
        "\n",
        "# Create a bagging classifier with 10 base estimators (logistic regression models)\n",
        "bagging = BaggingClassifier(base_estimator=logistic, n_estimators=300)\n",
        "\n",
        "# Train the bagging classifier on the training data\n",
        "bagging.fit(X_train_final, Y_output)\n",
        "\n",
        "# Make predictions on the test data using the bagging classifier\n",
        "Y_predicted = bagging.predict(X_test_final)\n",
        "\n",
        "print(Y_predicted)"
      ],
      "metadata": {
        "execution": {
          "iopub.status.busy": "2023-04-16T11:59:55.477366Z",
          "iopub.execute_input": "2023-04-16T11:59:55.478262Z",
          "iopub.status.idle": "2023-04-16T12:00:36.842212Z",
          "shell.execute_reply.started": "2023-04-16T11:59:55.478203Z",
          "shell.execute_reply": "2023-04-16T12:00:36.840622Z"
        },
        "trusted": true,
        "id": "bCft6P5GRDum"
      },
      "execution_count": null,
      "outputs": []
    },
    {
      "cell_type": "code",
      "source": [
        "output = pd.DataFrame({'ID': new_y.ID, 'category': Y_predicted})\n",
        "output.to_csv('submission.csv', index=False)"
      ],
      "metadata": {
        "execution": {
          "iopub.status.busy": "2023-04-16T12:00:36.847152Z",
          "iopub.execute_input": "2023-04-16T12:00:36.847895Z",
          "iopub.status.idle": "2023-04-16T12:00:36.859026Z",
          "shell.execute_reply.started": "2023-04-16T12:00:36.847829Z",
          "shell.execute_reply": "2023-04-16T12:00:36.857612Z"
        },
        "trusted": true,
        "id": "bqOAS-rERDun"
      },
      "execution_count": null,
      "outputs": []
    },
    {
      "cell_type": "code",
      "source": [
        "from IPython.display import FileLink\n",
        "FileLink(r'submission.csv')"
      ],
      "metadata": {
        "execution": {
          "iopub.status.busy": "2023-04-16T12:00:36.860465Z",
          "iopub.execute_input": "2023-04-16T12:00:36.860824Z",
          "iopub.status.idle": "2023-04-16T12:00:36.870128Z",
          "shell.execute_reply.started": "2023-04-16T12:00:36.860787Z",
          "shell.execute_reply": "2023-04-16T12:00:36.869139Z"
        },
        "trusted": true,
        "id": "5BIMC1EVRDun"
      },
      "execution_count": null,
      "outputs": []
    }
  ]
}